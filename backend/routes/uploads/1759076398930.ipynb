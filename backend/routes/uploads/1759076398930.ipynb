{
 "cells": [
  {
   "cell_type": "markdown",
   "id": "19546776-9ff4-4b2b-9912-6fcf995e6401",
   "metadata": {},
   "source": [
    "# basic program in python"
   ]
  },
  {
   "cell_type": "code",
   "execution_count": 47,
   "id": "1a9455a2-e103-4f82-8152-11e99ba8e577",
   "metadata": {},
   "outputs": [
    {
     "name": "stdout",
     "output_type": "stream",
     "text": [
      "HI\n",
      "value of c is:  10\n"
     ]
    }
   ],
   "source": [
    "#First program\n",
    "print(\"HI\")\n",
    "a=20\n",
    "b=30\n",
    "c=b-a\n",
    "print(\"value of c is: \",c)"
   ]
  },
  {
   "cell_type": "markdown",
   "id": "78d1fbd3-bdb4-4f48-968a-90c73beec76f",
   "metadata": {},
   "source": [
    "# DATA TYPES"
   ]
  },
  {
   "cell_type": "markdown",
   "id": "405dfd10-a593-48e7-a3a7-c234134d1a92",
   "metadata": {},
   "source": [
    "## NUMERIC DATA TYPE"
   ]
  },
  {
   "cell_type": "code",
   "execution_count": 48,
   "id": "16348a91-0f38-4e1c-b20a-f5eaf0b35366",
   "metadata": {},
   "outputs": [
    {
     "name": "stdout",
     "output_type": "stream",
     "text": [
      "19\n",
      "<class 'int'>\n",
      "140734479140424\n",
      "<class 'int'>\n",
      "140734479139816\n",
      "<class 'int'>\n",
      "140734479140328\n"
     ]
    }
   ],
   "source": [
    "num1=22\n",
    "num2=3\n",
    "result=num1-num2\n",
    "print(result)\n",
    "print(type(num1))\n",
    "print(id(num1))\n",
    "print(type(num2))\n",
    "print(id(num2))\n",
    "print(type(result))\n",
    "print(id(result))"
   ]
  },
  {
   "cell_type": "markdown",
   "id": "f7ddcb0a-2678-4ad2-a968-3f898c656a85",
   "metadata": {},
   "source": [
    "## FLOAT DATATYPE"
   ]
  },
  {
   "cell_type": "code",
   "execution_count": 49,
   "id": "9a8849b8-33ee-40e6-b3e1-932acf6606c2",
   "metadata": {},
   "outputs": [
    {
     "name": "stdout",
     "output_type": "stream",
     "text": [
      "11.6\n",
      "<class 'float'>\n",
      "2164809186096\n",
      "<class 'float'>\n",
      "2164809178448\n",
      "<class 'float'>\n",
      "2164809180336\n"
     ]
    }
   ],
   "source": [
    "a=8.2\n",
    "b=3.4\n",
    "c=a+b\n",
    "print(c)\n",
    "print(type(a))\n",
    "print(id(a))\n",
    "print(type(b))\n",
    "print(id(b))\n",
    "print(type(c))\n",
    "print(id(c))"
   ]
  },
  {
   "cell_type": "markdown",
   "id": "bebd39bc-6d09-4eae-a0fa-d33857095808",
   "metadata": {},
   "source": [
    "## COMPLEX DATATYPE"
   ]
  },
  {
   "cell_type": "code",
   "execution_count": 50,
   "id": "a8582a8e-efd2-4c35-a2d2-4c5de60b8cb6",
   "metadata": {},
   "outputs": [
    {
     "name": "stdout",
     "output_type": "stream",
     "text": [
      "(5+5j)\n",
      "<class 'complex'>\n",
      "2164809182992\n",
      "<class 'complex'>\n",
      "2164809187024\n",
      "<class 'complex'>\n",
      "2164809187184\n"
     ]
    }
   ],
   "source": [
    "a=2+3j\n",
    "b=3+2j\n",
    "c=a+b\n",
    "print(c)\n",
    "print(type(a))\n",
    "print(id(a))\n",
    "print(type(b))\n",
    "print(id(b))\n",
    "print(type(c))\n",
    "print(id(c))"
   ]
  },
  {
   "cell_type": "markdown",
   "id": "0377b44b-9cbd-405b-9035-c4271ed52699",
   "metadata": {},
   "source": [
    "# EXPRESSIONS"
   ]
  },
  {
   "cell_type": "markdown",
   "id": "4f838baa-c0f8-4e06-9410-ba473cb9754e",
   "metadata": {},
   "source": [
    "## CONSTANT EXPRESSION"
   ]
  },
  {
   "cell_type": "code",
   "execution_count": 51,
   "id": "02307d85-1792-458d-99b8-292e662c32dc",
   "metadata": {},
   "outputs": [
    {
     "name": "stdout",
     "output_type": "stream",
     "text": [
      "14\n"
     ]
    }
   ],
   "source": [
    "a=10+4\n",
    "print(a)"
   ]
  },
  {
   "cell_type": "markdown",
   "id": "2d10b431-a1ec-4aa8-bb7e-5cc4e3bc3027",
   "metadata": {},
   "source": [
    "## ARTHIMETIC EXPRESSION"
   ]
  },
  {
   "cell_type": "markdown",
   "id": "4710cab5-24a8-4f9f-ad31-34f2deb7a861",
   "metadata": {},
   "source": [
    "### PROGRAM ON '+'"
   ]
  },
  {
   "cell_type": "code",
   "execution_count": 52,
   "id": "1dcb2e8e-5c61-4769-aa26-c4bd8329950b",
   "metadata": {},
   "outputs": [
    {
     "name": "stdout",
     "output_type": "stream",
     "text": [
      "40\n"
     ]
    }
   ],
   "source": [
    "a=30\n",
    "b=10\n",
    "print(a+b)"
   ]
  },
  {
   "cell_type": "markdown",
   "id": "3c9310a8-4436-41df-8992-c2c0b73b5b92",
   "metadata": {},
   "source": [
    "### PROGRAM ON '-'"
   ]
  },
  {
   "cell_type": "code",
   "execution_count": 53,
   "id": "956214f4-de92-4dd6-86ba-c4a4d7530063",
   "metadata": {},
   "outputs": [
    {
     "name": "stdout",
     "output_type": "stream",
     "text": [
      "20\n"
     ]
    }
   ],
   "source": [
    "a=30\n",
    "b=10\n",
    "print(a-b)"
   ]
  },
  {
   "cell_type": "markdown",
   "id": "f748342c-2ce0-4223-bab5-64addb3479c5",
   "metadata": {},
   "source": [
    "### PROGRAM ON '*'"
   ]
  },
  {
   "cell_type": "code",
   "execution_count": 54,
   "id": "b7eeeeb4-eeb7-40ed-9323-143619e1ec11",
   "metadata": {},
   "outputs": [
    {
     "name": "stdout",
     "output_type": "stream",
     "text": [
      "300\n"
     ]
    }
   ],
   "source": [
    "a=30\n",
    "b=10\n",
    "print(a*b)"
   ]
  },
  {
   "cell_type": "markdown",
   "id": "d41d641e-d319-4167-8c82-fe9496212f83",
   "metadata": {},
   "source": [
    "### PROGRAM ON '**'"
   ]
  },
  {
   "cell_type": "code",
   "execution_count": 55,
   "id": "64c14a85-a759-459b-8cd9-e6c1f2536153",
   "metadata": {},
   "outputs": [
    {
     "name": "stdout",
     "output_type": "stream",
     "text": [
      "590490000000000\n"
     ]
    }
   ],
   "source": [
    "a=30\n",
    "b=10\n",
    "print(a**b)"
   ]
  },
  {
   "cell_type": "markdown",
   "id": "5d2ea5c1-d8aa-48f3-a6e7-498aeb8cf40e",
   "metadata": {},
   "source": [
    "### PROGRAM ON '/'"
   ]
  },
  {
   "cell_type": "code",
   "execution_count": 56,
   "id": "b5dd0bd0-1026-486a-a012-41e2257669fc",
   "metadata": {},
   "outputs": [
    {
     "name": "stdout",
     "output_type": "stream",
     "text": [
      "3.0\n"
     ]
    }
   ],
   "source": [
    "a=30\n",
    "b=10\n",
    "print(a/b)"
   ]
  },
  {
   "cell_type": "markdown",
   "id": "f064bf30-c03c-4a75-9e45-c70adcd6f179",
   "metadata": {},
   "source": [
    "### PROGRAM ON '//'"
   ]
  },
  {
   "cell_type": "code",
   "execution_count": 57,
   "id": "8c22f951-9a0b-4610-844e-1c1cc1ede632",
   "metadata": {},
   "outputs": [
    {
     "name": "stdout",
     "output_type": "stream",
     "text": [
      "3\n"
     ]
    }
   ],
   "source": [
    "a=30\n",
    "b=10\n",
    "print(a//b)"
   ]
  },
  {
   "cell_type": "markdown",
   "id": "1029cb86-67ea-4ede-90da-92271d4ef011",
   "metadata": {},
   "source": [
    "### PROGRAM ON '%'"
   ]
  },
  {
   "cell_type": "code",
   "execution_count": 58,
   "id": "46349351-b6ae-4898-b09c-61df4403a1fa",
   "metadata": {},
   "outputs": [
    {
     "name": "stdout",
     "output_type": "stream",
     "text": [
      "0\n"
     ]
    }
   ],
   "source": [
    "a=30\n",
    "b=10\n",
    "print(a%b)"
   ]
  },
  {
   "cell_type": "markdown",
   "id": "f7bf4b60-395a-475c-bb53-9a648f464c78",
   "metadata": {},
   "source": [
    "## Integral Expressions"
   ]
  },
  {
   "cell_type": "code",
   "execution_count": 59,
   "id": "5a0c5ae1-0fbf-427e-bac4-befda7be08bc",
   "metadata": {},
   "outputs": [
    {
     "name": "stdout",
     "output_type": "stream",
     "text": [
      "6\n",
      "<class 'int'>\n"
     ]
    }
   ],
   "source": [
    "a=2\n",
    "b=4\n",
    "c=a+b\n",
    "print(c)\n",
    "print(type(c))"
   ]
  },
  {
   "cell_type": "markdown",
   "id": "b9b4c6e0-9403-4a4a-afc1-a33b4476b2cb",
   "metadata": {},
   "source": [
    "## Floating Point Expression"
   ]
  },
  {
   "cell_type": "code",
   "execution_count": 60,
   "id": "23dd2485-85c1-4ecc-a444-015d39936ac2",
   "metadata": {},
   "outputs": [
    {
     "name": "stdout",
     "output_type": "stream",
     "text": [
      "15.7\n",
      "<class 'float'>\n"
     ]
    }
   ],
   "source": [
    "a=10.2\n",
    "b=5.5\n",
    "c=a+b\n",
    "print(c)\n",
    "print(type(c))"
   ]
  },
  {
   "cell_type": "markdown",
   "id": "fa469c7d-0d8f-429e-a0b7-53583ad23754",
   "metadata": {},
   "source": [
    "## Relational Expressions"
   ]
  },
  {
   "cell_type": "markdown",
   "id": "f281cdbb-865e-4900-b41c-a05c776398d3",
   "metadata": {},
   "source": [
    "### Program of '<' operator"
   ]
  },
  {
   "cell_type": "code",
   "execution_count": 61,
   "id": "fc134fdc-74db-40a6-8c9b-99a233afe327",
   "metadata": {},
   "outputs": [
    {
     "name": "stdout",
     "output_type": "stream",
     "text": [
      "True\n"
     ]
    }
   ],
   "source": [
    "a=10\n",
    "b=20\n",
    "print(a<b)"
   ]
  },
  {
   "cell_type": "markdown",
   "id": "e1b9e81e-2274-4e23-af25-0b55319bf4cd",
   "metadata": {},
   "source": [
    "### Program of '>' operator"
   ]
  },
  {
   "cell_type": "code",
   "execution_count": 62,
   "id": "16cec769-a6e0-42f6-ad02-6fbb028ada35",
   "metadata": {},
   "outputs": [
    {
     "name": "stdout",
     "output_type": "stream",
     "text": [
      "False\n"
     ]
    }
   ],
   "source": [
    "a=10\n",
    "b=20\n",
    "print(a>b)"
   ]
  },
  {
   "cell_type": "markdown",
   "id": "47d9badf-f00d-4ca5-a4c2-23f58a5f837f",
   "metadata": {},
   "source": [
    "### Program of '<=' operator"
   ]
  },
  {
   "cell_type": "code",
   "execution_count": 63,
   "id": "f6425099-0efd-45df-ba82-0046e16d7cb3",
   "metadata": {},
   "outputs": [
    {
     "name": "stdout",
     "output_type": "stream",
     "text": [
      "True\n"
     ]
    }
   ],
   "source": [
    "a=10\n",
    "b=20\n",
    "print(a<=b)"
   ]
  },
  {
   "cell_type": "markdown",
   "id": "b8f27bc7-f555-4533-8c1c-f24d49259266",
   "metadata": {},
   "source": [
    "### Program of '>=' operator"
   ]
  },
  {
   "cell_type": "code",
   "execution_count": 64,
   "id": "56fabe8d-34ce-43d2-a327-62cdeaf8262c",
   "metadata": {},
   "outputs": [
    {
     "name": "stdout",
     "output_type": "stream",
     "text": [
      "False\n"
     ]
    }
   ],
   "source": [
    "a=10\n",
    "b=20\n",
    "print(a>=b)"
   ]
  },
  {
   "cell_type": "markdown",
   "id": "e9ac5e73-a32b-41c2-b33c-fa226b9e1758",
   "metadata": {},
   "source": [
    "### Program of '==' operator"
   ]
  },
  {
   "cell_type": "code",
   "execution_count": 65,
   "id": "76ad16b2-8c40-49d3-ad65-364b776c3455",
   "metadata": {},
   "outputs": [
    {
     "name": "stdout",
     "output_type": "stream",
     "text": [
      "False\n"
     ]
    }
   ],
   "source": [
    "a=10\n",
    "b=20\n",
    "print(a==b)"
   ]
  },
  {
   "cell_type": "markdown",
   "id": "5ab2c72c-0606-4b6f-9027-b12cd7a86244",
   "metadata": {},
   "source": [
    "### Program of '!=' operator"
   ]
  },
  {
   "cell_type": "code",
   "execution_count": 66,
   "id": "5cf8e3b0-54c4-4050-b612-b062df5e0fb1",
   "metadata": {},
   "outputs": [
    {
     "name": "stdout",
     "output_type": "stream",
     "text": [
      "True\n"
     ]
    }
   ],
   "source": [
    "a=10\n",
    "b=20\n",
    "print(a!=b)"
   ]
  },
  {
   "cell_type": "markdown",
   "id": "512ebb5d-d09a-4a7f-87c6-3e809c2b89d5",
   "metadata": {},
   "source": [
    "## LOGICAL EXPRESSIONS"
   ]
  },
  {
   "cell_type": "markdown",
   "id": "cce45bd3-40ab-46cd-a318-eb5caf3226b7",
   "metadata": {},
   "source": [
    "### program of 'and' operator"
   ]
  },
  {
   "cell_type": "code",
   "execution_count": 67,
   "id": "75126880-743f-4c02-8bc7-5b35166799a2",
   "metadata": {},
   "outputs": [
    {
     "name": "stdout",
     "output_type": "stream",
     "text": [
      "5\n"
     ]
    }
   ],
   "source": [
    "a=10\n",
    "b=5\n",
    "print(a and b)"
   ]
  },
  {
   "cell_type": "markdown",
   "id": "b3f01e1d-016f-4c6a-bfd6-63104cd85a97",
   "metadata": {},
   "source": [
    "### program of 'and' operator"
   ]
  },
  {
   "cell_type": "code",
   "execution_count": 68,
   "id": "294c47c2-b193-42d1-8c15-c2f3b04f692b",
   "metadata": {},
   "outputs": [
    {
     "name": "stdout",
     "output_type": "stream",
     "text": [
      "10\n"
     ]
    }
   ],
   "source": [
    "a=10\n",
    "b=5\n",
    "print(b and a)"
   ]
  },
  {
   "cell_type": "markdown",
   "id": "28d2af64-fd29-4cc0-9702-4fb09bf9ec96",
   "metadata": {},
   "source": [
    "### program of 'or' operator"
   ]
  },
  {
   "cell_type": "code",
   "execution_count": 69,
   "id": "f66a00d7-52b1-43f5-9257-9d407a4ad1fc",
   "metadata": {},
   "outputs": [
    {
     "name": "stdout",
     "output_type": "stream",
     "text": [
      "10\n"
     ]
    }
   ],
   "source": [
    "a=10\n",
    "b=5\n",
    "print(a or b)"
   ]
  },
  {
   "cell_type": "markdown",
   "id": "ac2b7198-1ad2-438d-9980-c804ae26ecbb",
   "metadata": {},
   "source": [
    "### program of 'or' operator"
   ]
  },
  {
   "cell_type": "code",
   "execution_count": 70,
   "id": "cda00f05-c24d-4d52-a400-3e2913f22a3c",
   "metadata": {},
   "outputs": [
    {
     "name": "stdout",
     "output_type": "stream",
     "text": [
      "5\n"
     ]
    }
   ],
   "source": [
    "a=10\n",
    "b=5\n",
    "print(b or a)"
   ]
  },
  {
   "cell_type": "markdown",
   "id": "e3f98270-6d13-4645-b377-56da309ff61c",
   "metadata": {},
   "source": [
    "### program of 'not' operator"
   ]
  },
  {
   "cell_type": "code",
   "execution_count": 71,
   "id": "cefcb3b5-a7ef-4e73-8f40-2e52cefa0502",
   "metadata": {},
   "outputs": [
    {
     "name": "stdout",
     "output_type": "stream",
     "text": [
      "False\n"
     ]
    }
   ],
   "source": [
    "a=10\n",
    "b=5\n",
    "print(not a)"
   ]
  },
  {
   "cell_type": "markdown",
   "id": "eecc72fc-cdef-4a7f-a5a1-4ba1837a56a5",
   "metadata": {},
   "source": [
    "### program of 'not' operator"
   ]
  },
  {
   "cell_type": "code",
   "execution_count": 72,
   "id": "7304d471-418c-470e-8a82-3a4bea5db6c2",
   "metadata": {},
   "outputs": [
    {
     "name": "stdout",
     "output_type": "stream",
     "text": [
      "False\n"
     ]
    }
   ],
   "source": [
    "a=10\n",
    "b=5\n",
    "print(not b)"
   ]
  },
  {
   "cell_type": "markdown",
   "id": "fd0e9683-1f9b-4a27-b268-38b686b9bbc7",
   "metadata": {},
   "source": [
    "## BITWISE OPERATORS"
   ]
  },
  {
   "cell_type": "markdown",
   "id": "41963b72-0316-4739-b1e3-85c45f1cae69",
   "metadata": {},
   "source": [
    "### program on '&' operator"
   ]
  },
  {
   "cell_type": "code",
   "execution_count": null,
   "id": "3c04ce31-929c-4b2c-aa64-729c3e42ef2e",
   "metadata": {},
   "outputs": [],
   "source": []
  },
  {
   "cell_type": "markdown",
   "id": "aace232a-779b-4d32-a350-daa7c51a6b74",
   "metadata": {},
   "source": [
    "### program on '&' operator"
   ]
  },
  {
   "cell_type": "code",
   "execution_count": null,
   "id": "c2027f01-9d1e-4515-aa43-35d10fa89af3",
   "metadata": {},
   "outputs": [],
   "source": []
  },
  {
   "cell_type": "markdown",
   "id": "5e008b23-c7a0-4182-8dfb-8dc645159dbe",
   "metadata": {},
   "source": [
    "### program on '|' operator"
   ]
  },
  {
   "cell_type": "code",
   "execution_count": null,
   "id": "b46a178d-362f-4942-8297-233a91a02983",
   "metadata": {},
   "outputs": [],
   "source": []
  },
  {
   "cell_type": "markdown",
   "id": "eed277c4-1007-4d76-8940-c9e7411e91d1",
   "metadata": {},
   "source": [
    "### program on '|' operator"
   ]
  },
  {
   "cell_type": "code",
   "execution_count": null,
   "id": "a30d5188-401a-4b54-90a5-813fcd9b0935",
   "metadata": {},
   "outputs": [],
   "source": []
  },
  {
   "cell_type": "markdown",
   "id": "a58f3103-eccb-4c28-af2e-7a0b759ab0db",
   "metadata": {},
   "source": [
    "### program on '~' operator"
   ]
  },
  {
   "cell_type": "code",
   "execution_count": null,
   "id": "7727bcaf-4848-42b2-9097-0e03c6c4f7dc",
   "metadata": {},
   "outputs": [],
   "source": []
  },
  {
   "cell_type": "markdown",
   "id": "93e237cc-f590-41df-acd0-84264e5b384c",
   "metadata": {},
   "source": [
    "### program on '~' operator"
   ]
  },
  {
   "cell_type": "code",
   "execution_count": null,
   "id": "e0ad8e4f-7ae4-48de-bf7a-137479c76e4a",
   "metadata": {},
   "outputs": [],
   "source": []
  },
  {
   "cell_type": "markdown",
   "id": "d83f62be-fbe6-42aa-887d-bcf775c006bb",
   "metadata": {},
   "source": [
    "### program on '^' operator"
   ]
  },
  {
   "cell_type": "code",
   "execution_count": null,
   "id": "82ae2731-4438-47e1-ab48-075763cb3598",
   "metadata": {},
   "outputs": [],
   "source": []
  },
  {
   "cell_type": "markdown",
   "id": "aa312362-4eec-4137-8ae5-efe34a349302",
   "metadata": {},
   "source": [
    "### program on '*' operator"
   ]
  },
  {
   "cell_type": "code",
   "execution_count": null,
   "id": "f5df898e-d24d-406f-a9e8-2262c8839f96",
   "metadata": {},
   "outputs": [],
   "source": []
  },
  {
   "cell_type": "markdown",
   "id": "94cbfca5-6ed9-4b23-a943-8295e0c32573",
   "metadata": {},
   "source": [
    "### program on '*' operator"
   ]
  },
  {
   "cell_type": "code",
   "execution_count": null,
   "id": "24d9ec62-8476-4aab-b823-e6ac81608281",
   "metadata": {},
   "outputs": [],
   "source": []
  },
  {
   "cell_type": "markdown",
   "id": "0b0264ee-ca55-417a-8c3b-8a93988ea483",
   "metadata": {},
   "source": [
    "### program on '>>' operator"
   ]
  },
  {
   "cell_type": "code",
   "execution_count": null,
   "id": "f979b728-bc43-4d56-b163-79d04f3b04bc",
   "metadata": {},
   "outputs": [],
   "source": []
  },
  {
   "cell_type": "markdown",
   "id": "14237f55-7d68-4451-8e44-03b0b9631bbb",
   "metadata": {},
   "source": [
    "### program on '<<' operator"
   ]
  },
  {
   "cell_type": "code",
   "execution_count": null,
   "id": "5873d5e0-a4ed-4776-99c7-efd23025ea81",
   "metadata": {},
   "outputs": [],
   "source": []
  }
 ],
 "metadata": {
  "kernelspec": {
   "display_name": "Python 3 (ipykernel)",
   "language": "python",
   "name": "python3"
  },
  "language_info": {
   "codemirror_mode": {
    "name": "ipython",
    "version": 3
   },
   "file_extension": ".py",
   "mimetype": "text/x-python",
   "name": "python",
   "nbconvert_exporter": "python",
   "pygments_lexer": "ipython3",
   "version": "3.13.1"
  }
 },
 "nbformat": 4,
 "nbformat_minor": 5
}
